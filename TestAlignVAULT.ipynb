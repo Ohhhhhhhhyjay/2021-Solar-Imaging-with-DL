{
 "cells": [
  {
   "cell_type": "code",
   "execution_count": null,
   "source": [
    "import sunpy.map\r\n",
    "import matplotlib.pyplot as plt\r\n",
    "import astropy.units as u\r\n",
    "import numpy as np\r\n",
    "import flares as fl\r\n",
    "import data_prep as prep\r\n",
    "from astropy.coordinates import SkyCoord\r\n",
    "import sunpy.coordinates"
   ],
   "outputs": [],
   "metadata": {}
  },
  {
   "cell_type": "code",
   "execution_count": null,
   "source": [
    "import warnings\r\n",
    "warnings.filterwarnings(\"ignore\")"
   ],
   "outputs": [],
   "metadata": {}
  },
  {
   "cell_type": "code",
   "execution_count": null,
   "source": [
    "fits_vault = r'E:\\Researches\\2020EUVSolarFlare\\Data_Lya\\event20140930T18\\1216A\\VAULT2.0_20140930_180905.fits'\r\n",
    "fits_304a = r'E:\\Researches\\2020EUVSolarFlare\\Data_Lya\\event20140930T18\\304A\\aia.lev1_euv_12s.2014-09-30T180909Z.304.image_lev1.fits'"
   ],
   "outputs": [],
   "metadata": {}
  },
  {
   "cell_type": "code",
   "execution_count": null,
   "source": [
    "map_vault = sunpy.map.Map(fits_vault)\r\n",
    "map_aia = sunpy.map.Map(fits_304a)"
   ],
   "outputs": [],
   "metadata": {}
  },
  {
   "cell_type": "code",
   "execution_count": null,
   "source": [
    "# plotting\r\n",
    "data = map_vault.data\r\n",
    "plt.imshow(data)\r\n",
    "# plotting with sunpy\r\n",
    "map_vault.peek()"
   ],
   "outputs": [],
   "metadata": {}
  },
  {
   "cell_type": "code",
   "execution_count": null,
   "source": [
    "# Rotate vault image\r\n",
    "map_aia_rot = map_aia.rotate(angle=16 * u.deg)\r\n",
    "map_aia_rot.peek()"
   ],
   "outputs": [],
   "metadata": {}
  },
  {
   "cell_type": "code",
   "execution_count": null,
   "source": [
    "# Cut aia with vault center\r\n",
    "coord = fl.find_center_coord(map_vault)\r\n",
    "bottom_left, top_right = fl.get_diag_coord(map_aia, coord, 270)"
   ],
   "outputs": [],
   "metadata": {}
  },
  {
   "cell_type": "code",
   "execution_count": null,
   "source": [
    "# Cut aia in the same region\r\n",
    "map_aia_cut = fl.square_cut(map_aia_rot, bottom_left, top_right)\r\n",
    "map_aia_cut.peek()\r\n",
    "print(map_aia_cut.data.shape)"
   ],
   "outputs": [],
   "metadata": {}
  },
  {
   "cell_type": "code",
   "execution_count": null,
   "source": [
    "map_vault_cut = fl.square_cut(map_vault, bottom_left, top_right)\r\n",
    "map_vault_cut.peek()\r\n",
    "plt.imshow(map_vault_cut.data)"
   ],
   "outputs": [],
   "metadata": {}
  },
  {
   "cell_type": "code",
   "execution_count": null,
   "source": [
    "print(map_vault_cut.data.shape)"
   ],
   "outputs": [],
   "metadata": {}
  },
  {
   "cell_type": "code",
   "execution_count": null,
   "source": [
    "map_vault_cut2 = map_vault_cut.submap([246, 0]*u.pixel, [1852, 1606]*u.pixel)\r\n",
    "map_vault_cut2.peek()"
   ],
   "outputs": [],
   "metadata": {}
  },
  {
   "cell_type": "code",
   "execution_count": null,
   "source": [
    "print(bottom_left, top_right)"
   ],
   "outputs": [],
   "metadata": {}
  },
  {
   "cell_type": "code",
   "execution_count": null,
   "source": [
    "# About eui images"
   ],
   "outputs": [],
   "metadata": {}
  },
  {
   "cell_type": "code",
   "execution_count": null,
   "source": [
    "fits_eui = r'E:\\Researches\\2020EUVSolarFlare\\Data_Lya\\solo_L2_eui-hrilya1216-image_20200513T072012818_V02.fits'"
   ],
   "outputs": [],
   "metadata": {}
  },
  {
   "cell_type": "code",
   "execution_count": null,
   "source": [
    "map_eui = sunpy.map.Map(fits_eui)"
   ],
   "outputs": [],
   "metadata": {}
  },
  {
   "cell_type": "code",
   "execution_count": null,
   "source": [
    "map_eui.peek()"
   ],
   "outputs": [],
   "metadata": {}
  }
 ],
 "metadata": {
  "orig_nbformat": 4,
  "language_info": {
   "name": "python",
   "version": "3.9.1",
   "mimetype": "text/x-python",
   "codemirror_mode": {
    "name": "ipython",
    "version": 3
   },
   "pygments_lexer": "ipython3",
   "nbconvert_exporter": "python",
   "file_extension": ".py"
  },
  "kernelspec": {
   "name": "python3",
   "display_name": "Python 3.9.1 64-bit"
  },
  "interpreter": {
   "hash": "f06167d67f7d333834d778cba2aba1bad99950d0b55c8f4f285a548d8beae30f"
  }
 },
 "nbformat": 4,
 "nbformat_minor": 2
}