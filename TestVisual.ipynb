{
 "cells": [
  {
   "cell_type": "code",
   "execution_count": 2,
   "source": [
    "from PIL import Image \r\n",
    "from images2gif import writeGif\r\n",
    "import os\r\n",
    "import numpy as np\r\n",
    "import imageio"
   ],
   "outputs": [],
   "metadata": {}
  },
  {
   "cell_type": "code",
   "execution_count": 5,
   "source": [
    "path = r'E:\\Program Files\\VSCode\\2021_ImagingWithDeepLearning\\output_12'\r\n",
    "pics = []\r\n",
    "for root, dirs, files in os.walk(path):\r\n",
    "    for file in files:\r\n",
    "        pics.append(os.path.join(root, file))"
   ],
   "outputs": [],
   "metadata": {}
  },
  {
   "cell_type": "code",
   "execution_count": 6,
   "source": [
    "import cv2\r\n",
    "\r\n",
    "# img_root = 'F:\\\\test\\\\'#这里写你的文件夹路径，比如：/home/youname/data/img/,注意最后一个文件夹要有斜杠\r\n",
    "fps = 7    #保存视频的FPS，可以适当调整\r\n",
    "size=(1080,864)\r\n",
    "#可以用(*'DVIX')或(*'X264'),如果都不行先装ffmepg: sudo apt-get install ffmepg\r\n",
    "fourcc = cv2.VideoWriter_fourcc(*'XVID')\r\n",
    "videoWriter = cv2.VideoWriter('test.mp4',fourcc,fps,size)#最后一个是保存图片的尺寸\r\n",
    "\r\n",
    "#for(i=1;i<471;++i)\r\n",
    "for img in pics:\r\n",
    "    frame = cv2.imread(img)\r\n",
    "    videoWriter.write(frame)\r\n",
    "videoWriter.release()\r\n"
   ],
   "outputs": [],
   "metadata": {}
  }
 ],
 "metadata": {
  "orig_nbformat": 4,
  "language_info": {
   "name": "python",
   "version": "3.9.1",
   "mimetype": "text/x-python",
   "codemirror_mode": {
    "name": "ipython",
    "version": 3
   },
   "pygments_lexer": "ipython3",
   "nbconvert_exporter": "python",
   "file_extension": ".py"
  },
  "kernelspec": {
   "name": "python3",
   "display_name": "Python 3.9.1 64-bit"
  },
  "interpreter": {
   "hash": "f06167d67f7d333834d778cba2aba1bad99950d0b55c8f4f285a548d8beae30f"
  }
 },
 "nbformat": 4,
 "nbformat_minor": 2
}